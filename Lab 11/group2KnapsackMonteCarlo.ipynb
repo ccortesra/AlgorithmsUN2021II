{
  "cells": [
    {
      "cell_type": "markdown",
      "metadata": {
        "id": "gdB5r3Lp90VN"
      },
      "source": [
        "# Knapsak counting\n",
        "\n",
        "Given $n$ items with integer sizes\n",
        "\\begin{align}\n",
        "a=(a_1,...,a_n)\\in\\mathbb{N}^n\n",
        "\\end{align}\n",
        "and a knapsack with capacity\n",
        "\\begin{align}\n",
        "b \\in \\mathbb{N}.\n",
        "\\end{align}\n",
        "Estimate the proportion\n",
        "\\begin{align}\n",
        "p \\in [0,1]\n",
        "\\end{align}\n",
        "and the number\n",
        "\\begin{align}\n",
        "k\n",
        "\\end{align}\n",
        "of 0,1-vectors\n",
        "\\begin{align}\n",
        "x \\in {\\{0,1\\}}^n\n",
        "\\end{align}\n",
        "satisfying the inequality\n",
        "\\begin{align}\n",
        "a \\cdot x = \\sum_{i=1}^{n} a_i x_i \\leq b\n",
        "\\end{align}\n",
        "If the vector $a$ gives the sizes of $n$ items to be packed into a knapsack of capacity $b$, the quantity to be estimated can be interpreted as, which we shall refer as \"Knapsack solutions\".\n",
        "\n",
        "![picture](https://upload.wikimedia.org/wikipedia/commons/thumb/f/fd/Knapsack.svg/1280px-Knapsack.svg.png)\n"
      ]
    },
    {
      "cell_type": "code",
      "execution_count": 2,
      "metadata": {
        "id": "uXLM1ylVDgEs"
      },
      "outputs": [],
      "source": [
        "import numpy as np\n",
        "import itertools\n",
        "\n",
        "def test(a,b,x):\n",
        "\n",
        "  #test if a combination of items x, with sizes a fits in a knapsack of capacity b\n",
        "    return np.sum(np.multiply(a,x)) <= b"
      ]
    },
    {
      "cell_type": "markdown",
      "metadata": {
        "id": "g6lLG4YUOm6y"
      },
      "source": [
        "# **1. Count and calculate the exact proportion of  “Knapsack solutions.” for the problem in the image.**"
      ]
    },
    {
      "cell_type": "code",
      "execution_count": 3,
      "metadata": {
        "colab": {
          "base_uri": "https://localhost:8080/"
        },
        "id": "VKtcX24oOFLT",
        "outputId": "27ce1180-a29a-453e-ee4c-8f436bf27d48"
      },
      "outputs": [
        {
          "output_type": "stream",
          "name": "stdout",
          "text": [
            "# of solutions: 23\n",
            "Proportion: 0.71875\n",
            "Total combinations: 32\n"
          ]
        }
      ],
      "source": [
        "a = np.array([1,1,2,4,12]) #sizes\n",
        "b = 15 #capacity\n",
        "k = 0 #solutions\n",
        "p = 0 #proportions\n",
        "\n",
        "tests = list(itertools.product([0,1], repeat=a.size))\n",
        " \n",
        "for i in list(tests):\n",
        "    if test(a,b,np.array(i)):\n",
        "        k+=1\n",
        "\n",
        "p = k/(2**a.size)\n",
        "print('# of solutions: '+str(k))\n",
        "print('Proportion: '+str(p))\n",
        "print('Total combinations: '+str(2**a.size))"
      ]
    },
    {
      "cell_type": "markdown",
      "metadata": {
        "id": "_DEVY0TnPj88"
      },
      "source": [
        "Estimate the proportion and number of “Knapsack solutions.” if the sizes are (1,2,3,4,5,6,7,9,10) and the capacity of the knapsack is 10 using Monte Carlo with 1.000, 10.000 random binary vectors."
      ]
    },
    {
      "cell_type": "code",
      "execution_count": 4,
      "metadata": {
        "colab": {
          "base_uri": "https://localhost:8080/"
        },
        "id": "S9SRcbPUQZMS",
        "outputId": "0507304c-8d12-414f-e0e5-1ef879da5b4d"
      },
      "outputs": [
        {
          "output_type": "stream",
          "name": "stdout",
          "text": [
            "# of solutions: 71\n",
            "Proportion: 0.071\n",
            "Tested combinations: 1000\n"
          ]
        }
      ],
      "source": [
        "a = np.array([1,2,3,4,5,6,7,9,10])\n",
        "b = 10\n",
        "k = 0\n",
        "p = 0\n",
        "\n",
        "runs = 1000\n",
        "for i in range(1,runs+1):\n",
        "  x = np.random.randint(2, size=a.size)\n",
        "  if test(a,b,x):\n",
        "      k+=1\n",
        "\n",
        "p = k/runs\n",
        "print('# of solutions: '+str(k))\n",
        "print('Proportion: '+str(p))\n",
        "print('Tested combinations: ' + str(runs))"
      ]
    },
    {
      "cell_type": "code",
      "execution_count": 5,
      "metadata": {
        "colab": {
          "base_uri": "https://localhost:8080/"
        },
        "id": "TAMK2NsYSHNr",
        "outputId": "aa4836ce-a33b-4c16-f93c-084c1b77377f"
      },
      "outputs": [
        {
          "output_type": "stream",
          "name": "stdout",
          "text": [
            "# of solutions: 743\n",
            "Proportion: 0.0743\n",
            "Tested combinations: 10000\n"
          ]
        }
      ],
      "source": [
        "a = np.array([1,2,3,4,5,6,7,9,10])\n",
        "b = 10\n",
        "k = 0\n",
        "p = 0\n",
        "\n",
        "runs = 10000\n",
        "for i in range(1,runs+1):\n",
        "  x = np.random.randint(2, size=a.size)\n",
        "  if test(a,b,x):\n",
        "      k+=1\n",
        "\n",
        "p = k/runs\n",
        "print('# of solutions: '+str(k))\n",
        "print('Proportion: '+str(p))\n",
        "print('Tested combinations: ' + str(runs))"
      ]
    },
    {
      "cell_type": "markdown",
      "metadata": {
        "id": "Cx3A9ZBRTKq8"
      },
      "source": [
        "Estimate the proportion and number of “Knapsack solutions.” if the sizes are (1,2,3,4,…, 49,50) and the capacity of the knapsack are 10, 50, 100, 1275 using Mote Carlo with 10.000, 100.000 and 1.000.000 random binary vectors."
      ]
    },
    {
      "cell_type": "markdown",
      "source": [
        "# **2. Estimate the proportion and number of “Knapsack solutions.” if the sizes are (1,2,3,4,5,6,7,9,10) and the capacity of the knapsack is 10 using Mote Carlo with 1.000, 10.000 random binary vectors**"
      ],
      "metadata": {
        "id": "yKnZP83ss771"
      }
    },
    {
      "cell_type": "markdown",
      "metadata": {
        "id": "qcPs2qx7VbGb"
      },
      "source": [
        "##Capacity 10"
      ]
    },
    {
      "cell_type": "code",
      "execution_count": 14,
      "metadata": {
        "colab": {
          "base_uri": "https://localhost:8080/"
        },
        "id": "QSiBcnS0TKdC",
        "outputId": "994bcc17-66db-40db-e2c4-162fa8d3eb35"
      },
      "outputs": [
        {
          "output_type": "stream",
          "name": "stdout",
          "text": [
            "# of solutions: 802\n",
            "Proportion: 0.0802\n",
            "Tested combinations: 10000\n"
          ]
        }
      ],
      "source": [
        "a = np.array(range(1,10))\n",
        "b = 10\n",
        "k = 0\n",
        "p = 0\n",
        "\n",
        "runs = 10000\n",
        "for i in range(1,runs+1):\n",
        "  x = np.random.randint(2, size=a.size)\n",
        "  if test(a,b,x):\n",
        "    k+=1\n",
        "\n",
        "p = k/runs\n",
        "print('# of solutions: '+str(k))\n",
        "print('Proportion: '+str(p))\n",
        "print('Tested combinations: ' + str(runs))"
      ]
    },
    {
      "cell_type": "code",
      "source": [
        "a = np.array(range(1,10))\n",
        "b = 10\n",
        "k = 0\n",
        "p = 0\n",
        "\n",
        "runs = 10000\n",
        "for i in range(1,runs+1):\n",
        "  x = np.random.randint(2, size=a.size)\n",
        "  if test(a,b,x):\n",
        "    k+=1\n",
        "\n",
        "p = k/runs\n",
        "print('# of solutions: '+str(k))\n",
        "print('Proportion: '+str(p))\n",
        "print('Tested combinations: ' + str(runs))"
      ],
      "metadata": {
        "colab": {
          "base_uri": "https://localhost:8080/"
        },
        "id": "b0SYecdMtYuO",
        "outputId": "88939eb1-e674-4e47-af5c-8c619e2db4e7"
      },
      "execution_count": 15,
      "outputs": [
        {
          "output_type": "stream",
          "name": "stdout",
          "text": [
            "# of solutions: 836\n",
            "Proportion: 0.0836\n",
            "Tested combinations: 10000\n"
          ]
        }
      ]
    },
    {
      "cell_type": "markdown",
      "source": [
        "# **3. Estimate the proportion and number of “Knapsack solutions.” if the sizes are (1,2,3,4,…, 49,50) and the capacity of the knapsack are 10, 50, 100, 1275 using Mote Carlo with 10.000, 100.000 and 1.000.000 random binary vectors.**"
      ],
      "metadata": {
        "id": "N_Nm0lVit7Qj"
      }
    },
    {
      "cell_type": "markdown",
      "metadata": {
        "id": "CJq5gZBeVuvp"
      },
      "source": [
        "##Capacity: 10"
      ]
    },
    {
      "cell_type": "code",
      "execution_count": 18,
      "metadata": {
        "colab": {
          "base_uri": "https://localhost:8080/"
        },
        "id": "TMqccx3JUPT8",
        "outputId": "37937d61-a3aa-43f2-c033-f2360fb58cde"
      },
      "outputs": [
        {
          "output_type": "stream",
          "name": "stdout",
          "text": [
            "# of solutions: 0\n",
            "Proportion: 0.0\n",
            "Tested combinations: 10000\n"
          ]
        }
      ],
      "source": [
        "a = np.array(range(1,51))\n",
        "b = 10\n",
        "k = 0\n",
        "p = 0\n",
        "\n",
        "runs = 10000\n",
        "for i in range(1,runs+1):\n",
        "  x = np.random.randint(2, size=a.size)\n",
        "  if test(a,b,x):\n",
        "    k+=1\n",
        "\n",
        "p = k/runs\n",
        "print('# of solutions: '+str(k))\n",
        "print('Proportion: '+str(p))\n",
        "print('Tested combinations: ' + str(runs))"
      ]
    },
    {
      "cell_type": "markdown",
      "metadata": {
        "id": "-q2c6vw4VxYM"
      },
      "source": [
        "##Capacity: 50"
      ]
    },
    {
      "cell_type": "code",
      "execution_count": 19,
      "metadata": {
        "colab": {
          "base_uri": "https://localhost:8080/"
        },
        "id": "2dCopbBPUlt6",
        "outputId": "fd05336b-b419-4b0c-8e2a-ee1b4b711be7"
      },
      "outputs": [
        {
          "output_type": "stream",
          "name": "stdout",
          "text": [
            "# of solutions: 0\n",
            "Proportion: 0.0\n",
            "Tested combinations: 10000\n"
          ]
        }
      ],
      "source": [
        "a = np.array(range(1,51))\n",
        "b = 50\n",
        "k = 0\n",
        "p = 0\n",
        "\n",
        "runs = 10000\n",
        "for i in range(1,runs+1):\n",
        "  x = np.random.randint(2, size=a.size)\n",
        "  if test(a,b,x):\n",
        "    k+=1\n",
        "\n",
        "p = k/runs\n",
        "print('# of solutions: '+str(k))\n",
        "print('Proportion: '+str(p))\n",
        "print('Tested combinations: ' + str(runs))"
      ]
    },
    {
      "cell_type": "markdown",
      "source": [
        "##Capacity: 100\n"
      ],
      "metadata": {
        "id": "NjRvKXLnuSQP"
      }
    },
    {
      "cell_type": "code",
      "source": [
        "a = np.array(range(1,51))\n",
        "b = 100\n",
        "k = 0\n",
        "p = 0\n",
        "\n",
        "runs = 10000\n",
        "for i in range(1,runs+1):\n",
        "  x = np.random.randint(2, size=a.size)\n",
        "  if test(a,b,x):\n",
        "    k+=1\n",
        "\n",
        "p = k/runs\n",
        "print('# of solutions: '+str(k))\n",
        "print('Proportion: '+str(p))\n",
        "print('Tested combinations: ' + str(runs))"
      ],
      "metadata": {
        "colab": {
          "base_uri": "https://localhost:8080/"
        },
        "id": "dZuG7mpYuX6W",
        "outputId": "475c28e1-73a0-40b0-9dd7-085b7d316f8f"
      },
      "execution_count": 20,
      "outputs": [
        {
          "output_type": "stream",
          "name": "stdout",
          "text": [
            "# of solutions: 0\n",
            "Proportion: 0.0\n",
            "Tested combinations: 10000\n"
          ]
        }
      ]
    },
    {
      "cell_type": "markdown",
      "metadata": {
        "id": "FEY-NpjCV-u2"
      },
      "source": [
        "##Capacity: 1275"
      ]
    },
    {
      "cell_type": "code",
      "execution_count": 21,
      "metadata": {
        "colab": {
          "base_uri": "https://localhost:8080/"
        },
        "id": "6cLrd6-VWZfV",
        "outputId": "99a2164d-3f96-4038-fd88-8083c7a4f576"
      },
      "outputs": [
        {
          "output_type": "stream",
          "name": "stdout",
          "text": [
            "# of solutions: 10000\n",
            "Proportion: 1.0\n",
            "Tested combinations: 10000\n"
          ]
        }
      ],
      "source": [
        "a = np.array(range(1,51))\n",
        "b = 1275\n",
        "k = 0\n",
        "p = 0\n",
        "\n",
        "runs = 10000\n",
        "for i in range(1,runs+1):\n",
        "  x = np.random.randint(2, size=a.size)\n",
        "  if test(a,b,x):\n",
        "    k+=1\n",
        "\n",
        "p = k/runs\n",
        "print('# of solutions: '+str(k))\n",
        "print('Proportion: '+str(p))\n",
        "print('Tested combinations: ' + str(runs))"
      ]
    }
  ],
  "metadata": {
    "colab": {
      "collapsed_sections": [],
      "name": "group2KnapsackMonteCarlo.ipynb",
      "provenance": []
    },
    "kernelspec": {
      "display_name": "Python 3",
      "name": "python3"
    },
    "language_info": {
      "name": "python"
    }
  },
  "nbformat": 4,
  "nbformat_minor": 0
}