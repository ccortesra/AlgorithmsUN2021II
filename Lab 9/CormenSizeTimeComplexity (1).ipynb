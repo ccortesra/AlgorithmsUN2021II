{
  "nbformat": 4,
  "nbformat_minor": 0,
  "metadata": {
    "colab": {
      "name": "CormenSizeTimeComplexity.ipynb",
      "provenance": [],
      "collapsed_sections": []
    },
    "kernelspec": {
      "name": "python3",
      "display_name": "Python 3"
    },
    "language_info": {
      "name": "python"
    }
  },
  "cells": [
    {
      "cell_type": "markdown",
      "metadata": {
        "id": "I5UAAxG2_CqQ"
      },
      "source": [
        "# 0.(1 microsecond by instruction)\n",
        "Asuuming that you can execute a million instructions $10^6$ every second, i.e. each instruction takes one microsecond $1\\mu s=10^{-6}$ seconds. If you have algorithms take $\\bf{ Time\\ Complexity}$ steps to solve a problem of size $n$ as specified in column one. What is the size of the largest problem that you can solve in the time specified in row one?\n",
        "\n",
        "$$\n",
        "\\begin{array}{|c|c|c|c|c|c|c|c|} \n",
        " \\hline\n",
        " \\bf{ Time\\ Complexity} & Second  & Minute  & Hour & Day & Year & Century & Mileniun  \\\\ \n",
        "  \\hline\\\\ \n",
        "\\lg(n) &     &  &  &  &  &  &  \\\\ \n",
        "   \\hline\\\\ \n",
        "\\lg^2(n) &    &   &  &  &  &  &  \\\\ \n",
        "   \\hline\\\\ \n",
        "\\sqrt{n} &    &   &  &  &  &  &  \\\\ \n",
        " \\hline\n",
        " n &    &   &  &  &  &  &  \\\\ \n",
        " \\hline\n",
        " n\\lg(n) &    &   &  &  &  &  &  \\\\ \n",
        " \\hline\n",
        " n^2 &    &  &  &  &  &  &  \\\\ \n",
        " \\hline\n",
        "  n^3 &    &   &  &  &  &  &  \\\\ \n",
        " \\hline\n",
        "  n^4 &    &   &  &  &  &  &  \\\\ \n",
        " \\hline\n",
        "  2^n &    &   &  &  &  &  &  \\\\ \n",
        " \\hline\n",
        " n! &    &   &  &  &  &  &  \\\\ \n",
        " \\hline\n",
        " n^n &    &   &  &  &  &  &  \\\\ \n",
        " \\hline\n",
        "\\end{array}\n",
        "$$"
      ]
    },
    {
      "cell_type": "markdown",
      "metadata": {
        "id": "yCCsCOW2OQbQ"
      },
      "source": [
        "# 1.(10  nanoseconds by instruction)\n",
        "\n",
        "Asuuming that you can execute a 100 million instructions $100 \\times 10^6$ every second, i.e. each instrcution takes 10 nanoseconds, 10 $\\eta s  = 10^{-8} s $. If you have algorithms take $\\bf{ Time\\ Complexity}$ steps to solve a poblem of size $n$ as specified in column one. What is the size of the largest porblem that you can solve in the time specified in row one?\n",
        "$$\n",
        "\\begin{array}{|c|c|c|c|c|c|c|c|} \n",
        " \\hline\n",
        " \\bf{ Time\\ Complexity} & Second  & Minute  & Hour & Day & Year & Century & Mileniun  \\\\ \n",
        "  \\hline\\\\ \n",
        "\\lg(n) &    &   &  &  &  &  &  \\\\ \n",
        "   \\hline\\\\ \n",
        "\\lg^2(n) &    &   &  &  &  &  &  \\\\ \n",
        "   \\hline\\\\ \n",
        "\\sqrt{n} &    &   &  &  &  &  &  \\\\ \n",
        " \\hline\n",
        " n &    &   &  &  &  &  &  \\\\ \n",
        " \\hline\n",
        " n\\lg(n) &    &   &  &  &  &  &  \\\\ \n",
        " \\hline\n",
        " n^2 &    &   &  &  &  &  &  \\\\ \n",
        " \\hline\n",
        "  n^3 &    &   &  &  &  &  &  \\\\ \n",
        " \\hline\n",
        "  n^4 &    &   &  &  &  &  &  \\\\ \n",
        " \\hline\n",
        "  2^n &    &   &  &  &  &  &  \\\\ \n",
        " \\hline\n",
        " n! &    &   &  &  &  &  &  \\\\ \n",
        " \\hline\n",
        " n^n &    &   &  &  &  &  &  \\\\ \n",
        " \\hline\n",
        "\\end{array}\n",
        "$$"
      ]
    },
    {
      "cell_type": "markdown",
      "metadata": {
        "id": "9fIs_70_DJWM"
      },
      "source": [
        "# 2.(2.5  nanoseconds by instruction)\n",
        "\n",
        "Asuuming that you can execute a 400 million instructions $400 \\times 10^6$ every second, i.e. each instrcution takes 2.5  nanoseconds, 2.5 $\\eta s  = 2.5 \\times 10^{-9} s$. If you have algorithms take $\\bf{ Time\\ Complexity}$ steps to solve a problem of size $n$ as specified in column one. What is the size of the largest problem that you can solve in the time specified in row one?\n",
        "$$\n",
        "\\begin{array}{|c|c|c|c|c|c|c|c|} \n",
        " \\hline\n",
        " \\bf{ Time\\ Complexity} & Second  & Minute  & Hour & Day & Year & Century & Mileniun  \\\\ \n",
        "  \\hline\\\\ \n",
        "\\lg(n) &  2^{2.5\\cdot10^{9}}  & 2^{150\\cdot10^{9}}   & 2^{9\\cdot10^{12}}   &  2^{216\\cdot10^{12}} & 2^{7884\\cdot10^{13}}  & 2^{7884\\cdot10^{15}}  & 2^{7884\\cdot10^{16}}  \\\\ \n",
        "   \\hline\\\\ \n",
        "\\lg^2(n) & 2^{1.25\\cdot10^{9}}   &  2^{75\\cdot10^{9}} & 2^{4.5\\cdot10^{12}} & 2^{108\\cdot10^{12}} & 2^{3942\\cdot10^{13}} & 2^{3942\\cdot10^{15}} & 2^{3942\\cdot10^{16}}  \\\\ \n",
        "   \\hline\\\\ \n",
        "\\sqrt{n} & 6.25\\cdot10^{18} & 2.25\\cdot10^{22}  & 8.1\\cdot10^{25} & 4.6656\\cdot10^{28} & 6.2157456\\cdot10^{33} & 6.2157456\\cdot10^{37} & 6.2157456\\cdot10^{39} \\\\ \n",
        " \\hline\n",
        " n & 2.5\\cdot10^{9} & 150\\cdot10^{9} & 9\\cdot10^{12} & 216\\cdot10^{12} &7884\\cdot10^{13} & 7884\\cdot10^{15} & 7884\\cdot10^{16} \\\\ \n",
        " \\hline\n",
        "n\\lg(n) & 2.35 \\cdot 10^{7} & 1.15 \\cdot 10^{9} & 5.8 \\cdot 10^{10} & 1.24 \\cdot 10^{12} & 3.757 \\cdot 10^{13} & 3.31 \\cdot 10^{15} & 7.6 \\cdot 10^{16} \\\\ \n",
        " \\hline\n",
        "n^2 &  1.27 \\cdot 10^{4}  &  3.8 \\cdot 10^{5}  & 3 \\cdot 10^{6} & 14.3 \\cdot 10^{6} & 8.46 \\cdot 10^{7} & 1.57 \\cdot 10^{8} & 2.45 \\cdot 10^{8} \\\\ \n",
        " \\hline\n",
        "  n^3 &  1.13 \\cdot 10^{3} & 2.68 \\cdot 10^{3} & 1.38 \\cdot 10^{4} & 3.34 \\cdot 10^{4} & 6.34 \\cdot 10^{4} & 8.39 \\cdot 10^{4} & 5.29 \\cdot 10^{5} \\\\ \n",
        " \\hline\n",
        "  n^4 & 1.03 \\cdot 10^{2} & 4.2 \\cdot 10^{2} & 1.27 \\cdot 10^{3} & 3.86 \\cdot 10^{3} & 6.17 \\cdot 10^{3} & 1.04 \\cdot 10^{4} & 1.42 \\cdot 10^{4} \\\\ \n",
        " \\hline\n",
        "  2^n & 74 & 382 & 450 & 708 & 1.2 \\cdot 10^{3} & 1.4 \\cdot 10^{3} & 1.5 \\cdot 10^{3} \\\\ \n",
        " \\hline\n",
        " n! & 34 & 45 & 57 & 62 & 69 & 73 & 89 \\\\ \n",
        " \\hline\n",
        " n^n & 20 & 23 & 26 & 32 & 39 & 47 & 53 \\\\ \n",
        " \\hline\n",
        "\\end{array}\n",
        "$$"
      ]
    },
    {
      "cell_type": "markdown",
      "metadata": {
        "id": "kwpTH36ZIyQJ"
      },
      "source": [
        "# 3. (1 noneosecond by instruction)\n",
        "\n",
        "Asuuming that you can execute a 1000 million instructions $10^9$ every second, i.e. each instrcution takes 1  nanosecond, 1 $\\eta s  = 10^{-9} s$. If you have algorithms take $\\bf{ Time\\ Complexity}$ steps to solve a problem of size $n$ as specified in column one. What is the size of the largest problem that you can solve in the time specified in row one?\n",
        "$$\n",
        "\\begin{array}{|c|c|c|c|c|c|c|c|} \n",
        " \\hline\n",
        " \\bf{ Time\\ Complexity} & Second  & Minute  & Hour & Day & Year & Century & Mileniun  \\\\ \n",
        "  \\hline\\\\ \n",
        "\\lg(n) &    &   &  &  &  &  &  \\\\ \n",
        "   \\hline\\\\ \n",
        "\\lg^2(n) &    &   &  &  &  &  &  \\\\ \n",
        "   \\hline\\\\ \n",
        "\\sqrt{n} &    &   &  &  &  &  &  \\\\ \n",
        " \\hline\n",
        " n &    &   &  &  &  &  &  \\\\ \n",
        " \\hline\n",
        " n\\lg(n) &    &   &  &  &  &  &  \\\\ \n",
        " \\hline\n",
        " n^2 &    &   &  &  &  &  &  \\\\ \n",
        " \\hline\n",
        "  n^3 &    &   &  &  &  &  &  \\\\ \n",
        " \\hline\n",
        "  n^4 &    &   &  &  &  &  &  \\\\ \n",
        " \\hline\n",
        "  2^n &    &   &  &  &  &  &  \\\\ \n",
        " \\hline\n",
        " n! &    &   &  &  &  &  &  \\\\ \n",
        " \\hline\n",
        " n^n &    &   &  &  &  &  &  \\\\ \n",
        " \\hline\n",
        "\\end{array}\n",
        "$$"
      ]
    }
  ]
}